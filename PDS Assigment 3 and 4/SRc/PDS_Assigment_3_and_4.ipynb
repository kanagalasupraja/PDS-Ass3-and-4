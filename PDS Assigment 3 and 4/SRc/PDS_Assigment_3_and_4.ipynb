{
  "nbformat": 4,
  "nbformat_minor": 0,
  "metadata": {
    "colab": {
      "provenance": []
    },
    "kernelspec": {
      "name": "python3",
      "display_name": "Python 3"
    },
    "language_info": {
      "name": "python"
    }
  },
  "cells": [
    {
      "cell_type": "code",
      "execution_count": null,
      "metadata": {
        "colab": {
          "base_uri": "https://localhost:8080/"
        },
        "id": "XR6PB2fXsLo1",
        "outputId": "fa8f23b9-4743-4c29-dc1a-c4247913a1f6"
      },
      "outputs": [
        {
          "output_type": "stream",
          "name": "stdout",
          "text": [
            "{'query': '12134635888', 'status': 'success', 'numberType': 'FIXED LINE OR MOBILE', 'numberValid': True, 'numberValidForRegion': True, 'numberCountryCode': 1, 'numberAreaCode': 213, 'ext': None, 'formatE164': '+12134635888', 'formatNational': '(213) 463-5888', 'formatInternational': '+1 213-463-5888', 'dialFromCountryCode': 'US', 'dialFromCountryNumber': '1 (213) 463-5888', 'carrier': None, 'continent': 'North America', 'continentCode': 'NA', 'country': 'US', 'countryName': 'United States', 'region': 'CA', 'regionName': 'California', 'city': 'Los Angeles', 'zip': '90009', 'lat': 34.052, 'lon': -118.244, 'timezone': 'America/Los_Angeles', 'offset': -25200, 'currency': 'USD'}\n"
          ]
        }
      ],
      "source": [
        "#Question 1\n",
        "import requests\n",
        "\n",
        "url = \"https://free-phone-number-lookup-and-validation-api1.p.rapidapi.com/json\"\n",
        "\n",
        "querystring = {\"number\":\"12134635888\"}\n",
        "\n",
        "headers = {\n",
        "\t\"X-RapidAPI-Key\": \"737db4c732msh6808b0d41755dfbp1890c4jsn1781b167b094\",\n",
        "\t\"X-RapidAPI-Host\": \"free-phone-number-lookup-and-validation-api1.p.rapidapi.com\"\n",
        "}\n",
        "\n",
        "response = requests.get(url, headers=headers, params=querystring)\n",
        "\n",
        "print(response.json())"
      ]
    },
    {
      "cell_type": "code",
      "source": [
        "import requests\n",
        "\n",
        "def fetch_data():\n",
        "    phone_number = input(\"Enter a phone number: \")\n",
        "    url = \"https://free-phone-number-lookup-and-validation-api1.p.rapidapi.com/json\"\n",
        "    querystring = {\"number\": phone_number}\n",
        "    headers = {\n",
        "        \"X-RapidAPI-Key\": \"737db4c732msh6808b0d41755dfbp1890c4jsn1781b167b094\",\n",
        "        \"X-RapidAPI-Host\": \"free-phone-number-lookup-and-validation-api1.p.rapidapi.com\"\n",
        "    }\n",
        "    response = requests.get(url, headers=headers, params=querystring)\n",
        "    if response.status_code == 200:\n",
        "        data = response.json()\n",
        "        display_data(data)\n",
        "    else:\n",
        "        print(f\"Failed to fetch data: {response.status_code}\")\n",
        "\n",
        "def display_data(data):\n",
        "    print(\"Phone Number Information:\")\n",
        "    for key, value in data.items():\n",
        "        print(f\"{key}: {value}\")\n",
        "\n",
        "# Fetch and display data\n",
        "fetch_data()\n"
      ],
      "metadata": {
        "colab": {
          "base_uri": "https://localhost:8080/"
        },
        "id": "qpP8VWhzws4X",
        "outputId": "1b934d15-a6c1-4d23-f5b7-c4dad54bdf8d"
      },
      "execution_count": null,
      "outputs": [
        {
          "output_type": "stream",
          "name": "stdout",
          "text": [
            "Enter a phone number: 919515602057\n",
            "Phone Number Information:\n",
            "query: 919515602057\n",
            "status: success\n",
            "numberType: MOBILE\n",
            "numberValid: True\n",
            "numberValidForRegion: True\n",
            "numberCountryCode: 91\n",
            "numberAreaCode: None\n",
            "ext: None\n",
            "formatE164: +919515602057\n",
            "formatNational: 095156 02057\n",
            "formatInternational: +91 95156 02057\n",
            "dialFromCountryCode: US\n",
            "dialFromCountryNumber: 011 91 95156 02057\n",
            "carrier: Airtel\n",
            "continent: Asia\n",
            "continentCode: AS\n",
            "country: IN\n",
            "countryName: India\n",
            "region: None\n",
            "regionName: None\n",
            "city: India\n",
            "zip: None\n",
            "lat: 22.0\n",
            "lon: 79.0\n",
            "timezone: Asia/Calcutta\n",
            "offset: 19800\n",
            "currency: INR\n"
          ]
        }
      ]
    },
    {
      "cell_type": "code",
      "source": [
        "#question 2\n",
        "import pandas as pd\n",
        "import numpy as np\n",
        "import matplotlib.pyplot as plt"
      ],
      "metadata": {
        "id": "9IOpFwUg6X5N"
      },
      "execution_count": 49,
      "outputs": []
    },
    {
      "cell_type": "code",
      "source": [
        "data =pd.read_csv(\"/content/diabetes.csv\")"
      ],
      "metadata": {
        "id": "xzx72E1k7BOo"
      },
      "execution_count": 54,
      "outputs": []
    },
    {
      "cell_type": "code",
      "source": [
        "import numpy as np\n",
        "import pandas as pd\n",
        "import matplotlib.pyplot as plt\n",
        "\n",
        "# Assuming you have already loaded your dataset into a variable named 'dataset'\n",
        "\n",
        "# Set seed for reproducibility\n",
        "np.random.seed(642)\n",
        "\n",
        "# Take a random sample of 25 observations\n",
        "sample = data.sample(25)\n",
        "\n",
        "# Compute population statistics for Glucose\n",
        "pop_mean_gluco = data['Glucose'].mean()\n",
        "pop_max_gluco = data['Glucose'].max()\n",
        "\n",
        "# Compute sample statistics for Glucose\n",
        "sample_mean_gluco = sample['Glucose'].mean()\n",
        "sample_max_gluco = sample['Glucose'].max()\n",
        "\n",
        "# Create a bar chart for comparison\n",
        "attr = ['Population Mean', 'Population Max', 'Sample Mean', 'Sample Max']\n",
        "values = [pop_mean_glucose, pop_max_glucose, sample_mean_glucose, sample_max_glucose]\n",
        "\n",
        "plt.bar(attr, values, color=['pink', 'blue', 'green', 'purple'])\n",
        "plt.title('X axis Comparison of Glucose Stats')\n",
        "plt.ylabel('Y axis Glucose Values')\n",
        "plt.show()\n"
      ],
      "metadata": {
        "colab": {
          "base_uri": "https://localhost:8080/",
          "height": 452
        },
        "id": "aMghn9-bVpeA",
        "outputId": "1fccc1f8-7829-466f-dc51-702328a48e6c"
      },
      "execution_count": 67,
      "outputs": [
        {
          "output_type": "display_data",
          "data": {
            "text/plain": [
              "<Figure size 640x480 with 1 Axes>"
            ],
            "image/png": "[encoded data removed]"
          },
          "metadata": {}
        }
      ]
    },
    {
      "cell_type": "code",
      "source": [
        "import numpy as np\n",
        "import pandas as pd\n",
        "import matplotlib.pyplot as plt\n",
        "\n",
        "# Compute population 98th percentile for BMI\n",
        "pop_percentile = np.percentile(data['BMI'], 98)\n",
        "\n",
        "# Compute sample 98th percentile for BMI\n",
        "sample_percentile = np.percentile(sample['BMI'], 98)\n",
        "\n",
        "# Create a bar chart for comparison\n",
        "attr = ['Population 98th Percentile', 'Sample 98th Percentile']\n",
        "values = [pop_percentile, sample_percentile]\n",
        "\n",
        "plt.bar(attr, values, color=['pink', 'purple'])\n",
        "plt.title('Comparison of BMI 98th Percentiles')\n",
        "plt.ylabel('BMI Values')\n",
        "plt.show()\n"
      ],
      "metadata": {
        "colab": {
          "base_uri": "https://localhost:8080/",
          "height": 452
        },
        "id": "nPbhdsSeDwy9",
        "outputId": "5b122ddb-ee50-4180-f8c4-44699c5766d3"
      },
      "execution_count": 69,
      "outputs": [
        {
          "output_type": "display_data",
          "data": {
            "text/plain": [
              "<Figure size 640x480 with 1 Axes>"
            ],
            "image/png": "[encoded data removed]"
          },
          "metadata": {}
        }
      ]
    },
    {
      "cell_type": "code",
      "source": [
        "bootstrp_sample = 500\n",
        "sample_size = 150\n",
        "\n",
        "\n",
        "btstrap_mean = np.zeros(bootstrp_sample)\n",
        "btstrap_std_dev = np.zeros(bootstrp_sample)\n",
        "btstrap_percentile = np.zeros(bootstrp_sample)\n",
        "\n",
        "\n",
        "for i in range(bootstrp_sample):\n",
        "    btstrap_sample = dataset['BloodPressure'].sample(sample_size, replace=True)\n",
        "    btstrap_mean[i] = btstrap_sample.mean()\n",
        "    btstrap_std_dev[i] = btstrap_sample.std()\n",
        "    btstrap_percentile[i] = np.percentile(btstrap_sample, 98)\n",
        "\n",
        "\n",
        "pop_mean = dataset['BloodPressure'].mean()\n",
        "pop_std_dev = dataset['BloodPressure'].std()\n",
        "pop_percentile = np.percentile(dataset['BloodPressure'], 98)\n",
        "\n",
        "\n",
        "bmean=np.mean(btstrap_mean)\n",
        "bsd=np.mean(btstrap_std_dev)\n",
        "bp=np.mean(btstrap_percentile)"
      ],
      "metadata": {
        "id": "nIWtpcaHYi0j"
      },
      "execution_count": null,
      "outputs": []
    },
    {
      "cell_type": "code",
      "source": [
        "fig, axis = pt.subplots(3, 1, figsize=(10, 12))\n",
        "\n",
        "\n",
        "axis[0].bar(['pop Mean', 'btstrap Mean'], [pop_mean, bmean], color=['pink', 'purple'])\n",
        "axis[0].set_ylabel('Values')\n",
        "axis[0].set_title('pop Mean vs btstrap Mean')\n",
        "\n",
        "\n",
        "axis[1].bar(['pop Std Dev', 'btstrap Std Dev'], [pop_std_dev, bsd], color=['pink', 'purple'])\n",
        "axis[1].set_ylabel('Values')\n",
        "axis[1].set_title('pop Std Dev vs btstrap Std Dev')\n",
        "\n",
        "\n",
        "axis[2].bar(['pop Percentile', 'btstrap Percentile'], [pop_percentile, bp], color=['pink', 'purple'])\n",
        "axis[2].set_ylabel('Values')\n",
        "axis[2].set_title('pop Percentile vs btstrap Percentile')\n",
        "\n",
        "pt.tight_layout()\n",
        "pt.show()"
      ],
      "metadata": {
        "colab": {
          "base_uri": "https://localhost:8080/",
          "height": 211
        },
        "id": "bFkudIKsYaKi",
        "outputId": "0a454be9-5deb-4eed-b695-778dcc4022e3"
      },
      "execution_count": 80,
      "outputs": [
        {
          "output_type": "error",
          "ename": "NameError",
          "evalue": "name 'pt' is not defined",
          "traceback": [
            "\u001b[0;31m---------------------------------------------------------------------------\u001b[0m",
            "\u001b[0;31mNameError\u001b[0m                                 Traceback (most recent call last)",
            "\u001b[0;32m<ipython-input-80-b26b1573c33f>\u001b[0m in \u001b[0;36m<cell line: 1>\u001b[0;34m()\u001b[0m\n\u001b[0;32m----> 1\u001b[0;31m \u001b[0mfig\u001b[0m\u001b[0;34m,\u001b[0m \u001b[0maxis\u001b[0m \u001b[0;34m=\u001b[0m \u001b[0mpt\u001b[0m\u001b[0;34m.\u001b[0m\u001b[0msubplots\u001b[0m\u001b[0;34m(\u001b[0m\u001b[0;36m3\u001b[0m\u001b[0;34m,\u001b[0m \u001b[0;36m1\u001b[0m\u001b[0;34m,\u001b[0m \u001b[0mfigsize\u001b[0m\u001b[0;34m=\u001b[0m\u001b[0;34m(\u001b[0m\u001b[0;36m10\u001b[0m\u001b[0;34m,\u001b[0m \u001b[0;36m12\u001b[0m\u001b[0;34m)\u001b[0m\u001b[0;34m)\u001b[0m\u001b[0;34m\u001b[0m\u001b[0;34m\u001b[0m\u001b[0m\n\u001b[0m\u001b[1;32m      2\u001b[0m \u001b[0;34m\u001b[0m\u001b[0m\n\u001b[1;32m      3\u001b[0m \u001b[0;34m\u001b[0m\u001b[0m\n\u001b[1;32m      4\u001b[0m \u001b[0maxis\u001b[0m\u001b[0;34m[\u001b[0m\u001b[0;36m0\u001b[0m\u001b[0;34m]\u001b[0m\u001b[0;34m.\u001b[0m\u001b[0mbar\u001b[0m\u001b[0;34m(\u001b[0m\u001b[0;34m[\u001b[0m\u001b[0;34m'pop Mean'\u001b[0m\u001b[0;34m,\u001b[0m \u001b[0;34m'btstrap Mean'\u001b[0m\u001b[0;34m]\u001b[0m\u001b[0;34m,\u001b[0m \u001b[0;34m[\u001b[0m\u001b[0mpop_mean\u001b[0m\u001b[0;34m,\u001b[0m \u001b[0mbmean\u001b[0m\u001b[0;34m]\u001b[0m\u001b[0;34m,\u001b[0m \u001b[0mcolor\u001b[0m\u001b[0;34m=\u001b[0m\u001b[0;34m[\u001b[0m\u001b[0;34m'pink'\u001b[0m\u001b[0;34m,\u001b[0m \u001b[0;34m'purple'\u001b[0m\u001b[0;34m]\u001b[0m\u001b[0;34m)\u001b[0m\u001b[0;34m\u001b[0m\u001b[0;34m\u001b[0m\u001b[0m\n\u001b[1;32m      5\u001b[0m \u001b[0maxis\u001b[0m\u001b[0;34m[\u001b[0m\u001b[0;36m0\u001b[0m\u001b[0;34m]\u001b[0m\u001b[0;34m.\u001b[0m\u001b[0mset_ylabel\u001b[0m\u001b[0;34m(\u001b[0m\u001b[0;34m'Values'\u001b[0m\u001b[0;34m)\u001b[0m\u001b[0;34m\u001b[0m\u001b[0;34m\u001b[0m\u001b[0m\n",
            "\u001b[0;31mNameError\u001b[0m: name 'pt' is not defined"
          ]
        }
      ]
    }
  ]
}